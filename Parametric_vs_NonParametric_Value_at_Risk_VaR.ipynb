{
  "nbformat": 4,
  "nbformat_minor": 0,
  "metadata": {
    "colab": {
      "name": "Parametric-vs-NonParametric-Value-at-Risk-VaR.ipynb",
      "provenance": [],
      "authorship_tag": "ABX9TyP9kbafrIWGxCYvwmXVbnbt",
      "include_colab_link": true
    },
    "kernelspec": {
      "name": "python3",
      "display_name": "Python 3"
    },
    "language_info": {
      "name": "python"
    }
  },
  "cells": [
    {
      "cell_type": "markdown",
      "metadata": {
        "id": "view-in-github",
        "colab_type": "text"
      },
      "source": [
        "<a href=\"https://colab.research.google.com/github/bhaydon/Docker-todolist-app/blob/main/Parametric_vs_NonParametric_Value_at_Risk_VaR.ipynb\" target=\"_parent\"><img src=\"https://colab.research.google.com/assets/colab-badge.svg\" alt=\"Open In Colab\"/></a>"
      ]
    },
    {
      "cell_type": "code",
      "execution_count": null,
      "metadata": {
        "id": "Vs2FBuWg7ifp"
      },
      "outputs": [],
      "source": [
        ""
      ]
    },
    {
      "cell_type": "markdown",
      "source": [
        "## Parametric vs Non-Parametric VaR\n",
        "(Bruce Haydon - Ottawa/Buffalo/NewYork/Toronto ACS Chapter)\n",
        "\n",
        "Value at Risk (VaR) is a common coherent measure in the banking and insurance industry of tail risk in terms of a financial loss event. It’s important to understand the different ways it is calculated from a conceptual level.\n",
        "###First, Understanding Returns\n",
        "The convention when computing these returns (as well as VaR) is to quote return losses as positive values. For example, if a portfolio is expected to decrease in value by $2 million, the commonly used terminology is \"expected loss is $2 million\" rather than \"expected profit is –$2 million.\"\n",
        "\n",
        "**Profit/loss data:** Change in value of asset/portfolio, Pt, at the end of period “t” plus any interim payments, Dt.\n",
        "(img)\n",
        "\n",
        "**Arithmetic return**: Assumption is that interim payments do not earn a return (i.e., _no reinvestment_). Hence, this approach is not appropriate for long investment horizons.\n",
        "(img)\n",
        "\n",
        "**Geometric return**: Assumption is that interim payments are _continuously reinvested_. Note that this approach ensures that asset price can never be negative.\n",
        "(img)\n",
        "\n",
        "###Historical Simulation VaR\n",
        "Historical Simulation VaR (HSVar) relies on a historical sample of past returns, ordered by magnitude of loss, where the appropriate quantile is calculated (i.e.: 95% or 99%). This differs from the empirical calculation of VaR using mathematical parameters (i.e.: Parametric VaR). The observation that follows the threshold loss level denotes the VaR limit. We are essentially searching for the observation that separates the _tail_ from the _body_ of the distribution. More generally, the observation that determines VaR for n observations at the (1 − α) confidence level would be: **(α × n) + 1.**\n",
        "\n",
        "One of the distinct advantages of Historical Simulation VaR is that there is no need to make any assumptions about the exact probability distribution of the returns. This is different from parametric VaR, where you need to make an assumption on whether profit/losses are normally distributed and whether returns are geometric.\n",
        "To illustrate this VaR method, assume you have gathered 1,000 monthly returns for a security and produced the distribution shown in  Histogram of Monthly Returns. You decide that you want to compute the monthly VaR for this security at a confidence level of 95%. At a 95% confidence level, the lower tail displays the lowest 5% of the underlying distribution's returns. For this distribution, the value associated with a 95% confidence level is a return of –15.5%. If you have $1,000,000 invested in this security, the one-month VaR is $155,000 (–15.5% × $1,000,000).\n",
        "Since VaR is to be estimated at 95% confidence, this means that 5% (i.e., 50) of the ordered observations would fall in the tail of the distribution. Therefore, the 51st ordered loss observation would separate the 5% of largest losses from the remaining 95% of returns. \n",
        "The VaR limit will be at the observation that separates the tail loss with area equal to 5% from the remainder of the distribution.\n",
        "(img)\n",
        "#### Assumptions & restrictions of HSVar\n",
        "- Future returns follow historical return process\n",
        "- Does not require specification of probability distribution\n",
        "- Unable to account for changes in parameter values\n",
        "\n",
        "#### Method of HSVaR Calculation\n",
        "- Historical returns are ordered from low to high\n",
        "- Identify observation corresponding to specific confidence level\n",
        "Non-parametric estimation does not make restrictive assumptions about the underlying distribution like parametric methods, which assume very specific forms such as normal or lognormal distributions. Non-parametric estimation lets the data be the prime driver of the estimation. The flexibility of historical VaR is especially  useful if tail events are sparse.\n",
        "###Parametric Value at Risk VaR (Delta Normal VaR)\n",
        "Unlike the historical simulation method, the parametric approach (e.g., the _delta-normal _approach) explicitly assumes a probability distribution for the underlying observations. \n",
        "There are generally two cases of parametric VaR calculations: \n",
        "1. VaR for returns that follow a _normal_ distribution, and \n",
        "2. VaR for returns that follow a _lognormal_ distribution. \n",
        "\n",
        "#### (a) Normal Parametric VaR (using P/L)\n",
        "Using P/L (Profit/Loss) data, the VaR for a given confidence level (i.e.: 95%, 99%)  denotes the point that separates the tail losses from the remaining distribution. The VaR cutoff will be in the left tail of the returns distribution. As such, the calculated value at risk is negative, but is typically reported as a _positive value_ since the negative amount is implied (i.e., it is the value that is at risk of a loss). I\n",
        "n equation form, the VaR at significance level α is shown below.\n",
        "VaR can be calculated both with and without a mean (u). Generally speaking, if you are given one it should be used in the calculation using the formula below.\n",
        "(img)\n",
        "Where** µ **and **σ **denote the mean and standard deviation of the profit/loss distribution and z denotes the critical value (i.e., quantile) of the standard normal. In practice, the population parameters μ and σ are not likely known, in which case the researcher will use the _sample mean_ and s_ample standard deviation_.\n",
        "\n",
        "Now suppose that the data you are using is arithmetic return data rather than profit/loss data. The arithmetic returns follow a normal distribution as well. As you would expect, because of the relationship between prices, profits/losses, and returns, the corresponding VaR is very similar in format:\n",
        "\n",
        "Note: If no mean data is available, then use the slightly modified version as follows:\n",
        "(img)\n",
        "\n",
        "\n",
        "#### (b) Normal Parametric VaR (using arithmetic return)\n",
        "Normal VaR is used for **arithmetic returns**, whereas Lognormal VaR (covered in next section) is used for **geometric returns.** \n",
        "If the data you being used is **arithmetic return **data rather than profit/loss (P/L) data, the formula is slightly different to incorporate the initial value. It’s important to not that the arithmetic returns follow a normal distribution as well. Because of the relationship between prices, profits/losses, and returns, the corresponding VaR formula is very similar in format:\n",
        "(img)\n",
        "\n",
        "**Example: Computing VaR (arithmetic returns)**\n",
        "A portfolio has a beginning period value of $100. The arithmetic returns follow a normal distribution with a mean of 10% and a standard deviation of 20%. Calculate VaR at both the 95% and 99% confidence levels.\n",
        "\n",
        "_Answer:_\n",
        "VaR(5%) = (−10% + 1.65 × 20%) × 100 = $23.0\n",
        "VaR(1%) = (−10% + 2.33 × 20%) × 100 = $36.6\n",
        "\n",
        "#### (c ) Lognormal VaR\n",
        "The lognormal distribution is right-skewed with positive outliers and, most importantly in terms of modeling asset prices,  bounded below by zero. Given this inability to assume a negative value, the lognormal distribution is commonly used to counter the possibility of negative asset prices (Pt). Technically, if we assume that _geometric returns_ follow a normal distribution (μR, σR), then the _natural logarithm of asset prices_ follows a normal distribution and Pt follows a _lognormal _distribution. The following expression is for the calculation of lognormal VaR:\n",
        "(img)\n",
        "All else being equal, Lognormal VaR < Normal VaR\n",
        "**Example: Computing VaR (lognormal distribution)**\n",
        "\n",
        "A diversified portfolio exhibits a normally distributed geometric return with mean and standard deviation of 10% and 20%, respectively. Calculate the 5% and 1% lognormal VaR assuming the beginning period portfolio value is $100.\n",
        "\n",
        "**Answer:**(img)\n",
        "\n",
        "Rule of Thumb: when you have arithmetic return data, you would use the “normal” VaR equation . When you have geometric return data, you would use the “lognormal” version.\n",
        "(img)\n",
        "(img)\n",
        "\n",
        "**Example VaR Problem** This problem incorporates the use of both Normal and Lognormal VaR:\n",
        "(img)\n",
        "Recalling the two equations:(img)\n",
        "Right away we know that (A) and (B) are off the table, since we have already established that _Lognormal VaR < Normal VaR,_ all else being equal.\n",
        "(img)\n",
        "In calculating both Normal and Lognnormal VaR, it can be seen that LogNormal VaR is -154,552 less, hence correct answer is (D). Note that _no conversion or adjustments for scale was required _here, since annual numbers were given, and 1-year VaR was the quantity being compared.\n",
        "\n",
        " \n",
        "\n",
        "###Parametric VaR - Timescale Conversions\n",
        "(img)\n",
        "In calculating VaR for a different time basis than the one the mean and standard deviation are based on (typically annual), some adaptation of these input figures are required. For instance, to get 1-day VaR given annual mean & standard deviations, the mean would be divided by 252, and the standard deviation would be divided by the square root of 252 as shown above.\n",
        "**Example - Time Scaling VaR Measures** The following question is a great example of calculating and comparing the two VaR metrics:\n",
        " (img)\n",
        "\tNotice that both arithmetic and geometric returns are provided. To reiterate, when you are calculating Normal VaR arithmetic returns are used and when you are calculating Lognormal VaR  it’s geometric returns.\n",
        "\tGiven annualized data is provided and the comparisons refer to 1-day VaR, some translation of the metrics will be required.  \n",
        "\tAlso note that all of the possible responses represent comparisons in % terms. As such, there is no need for an initial portfolio EUR portfolio value and that datapoint should be ignored.\n",
        "\t(img)\n",
        "\tThe first step is to adjust the annualized returns to daily by dividing annual returns by 252 (# business days in a year).  The second step is to calculate daily volatility by dividing each of the annualized standard deviations by the square root of 252.  The daily values for mean and volatility are plugged back into the original equation to come up with a VaR of 3.57%. Therefore from the above choices, the correct answer is “B”.\n",
        "\n",
        "### Portfolio VaR\n",
        "There are two types of Value at Risk for portfolios, depending on the diversification level & asset mix.\n",
        "**(a) Undiversified VaR**(img)\n",
        "**(b) Diversified VaR**(img)\n",
        ".\n"
      ],
      "metadata": {
        "id": "Yc94H0rh7joa"
      }
    }
  ]
}